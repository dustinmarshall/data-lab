{
 "cells": [
  {
   "cell_type": "code",
   "execution_count": 18,
   "id": "31800f9c-6f14-45c2-9a92-a94e2bc37950",
   "metadata": {},
   "outputs": [],
   "source": [
    "import csv\n",
    "import json\n",
    "from tqdm import tqdm\n",
    "import tiktoken\n",
    "from openai import OpenAI\n",
    "import concurrent.futures\n",
    "import requests\n",
    "import os\n",
    "from settings import (\n",
    "    YOUTUBE_API_KEY, \n",
    "    OPENAI_API_KEY\n",
    ")\n",
    "\n",
    "\"\"\"\n",
    "wb_ag_datasets.csv,\t\n",
    "wb_youtube_videos.json,\n",
    "all_usecases.csv\n",
    "\"\"\"\n",
    "data = []"
   ]
  },
  {
   "cell_type": "markdown",
   "id": "2f5693fa",
   "metadata": {},
   "source": [
    "Process datasets file"
   ]
  },
  {
   "cell_type": "code",
   "execution_count": 11,
   "id": "d5b75e6c",
   "metadata": {},
   "outputs": [
    {
     "name": "stdout",
     "output_type": "stream",
     "text": [
      "[{'name': 'World - World Food Security Outlook', 'description': \"Key components of the WFSO database cover severe food insecurity prevalence, estimates for countries lacking official data, population sizes of the severely food insecure, and required safety net financing. Data is presented in a user-friendly format.<br><br>WFSO data primarily relies on hunger and malnutrition data from the State of Food Security and Nutrition in the World (SOFI) report, led by the Food and agriculture Organization (FAO) in collaboration with multiple UN agencies. WFSO complements SOFI data by providing estimates for unreported countries. Historical estimates are produced with a World Bank machine learning model leveraging World Development Indicators (WDI) for global coverage. <br><br>Financing needs for safety nets are calculated similarly to past approaches by the International Development Association (IDA) to assess food insecurity response needs. Preliminary estimates and projections rely on the same model and incorporate IMF's World Economic Outlook (WEO) growth and inflation forecasts. WEO data reflects the IMF's expert analysis from various sources, including government agencies, central banks, and international organizations. <br><br>Minor gaps in WDI data inflation data are replaced with unofficial WEO estimates. Minor inflation data gaps not covered by both, are replaced with unofficial inflation estimates from the World Bank's Real-Time Food Prices (RTFP) data.<br><br>The WFSO is updated three times a year, coinciding with IMF's WEO and SOFI releases. It provides food security projections that align with economic forecasts, aiding policymakers in integrating food security into economic planning.<br><br>The WFSO database serves various purposes, aiding World Bank economists and researchers in economic analysis, policy recommendations, and the assessment of global financing needs to address food insecurity.<br><br>Additionally, the WFSO enhances transparency in global food security data by tracking regional and global figures and breaking them down by individual countries. Historical estimates support research and long-term trend assessments, especially in the context of relating outlooks to past food security crises.\", 'dataset_id': '0065233', 'project_id': '', 'files': '[{\"name\": \"Visit the Microdata Library to access data and documentation.\", \"description\": null, \"url\": null}]'}, {'name': 'Tanzania - Demographic and Health Survey and Malaria Indicator Survey 2022', 'description': 'The primary objective of the 2022 Tanzania Demographic and Health Survey and Malaria Indicator Survey (2022 TDHSMIS) is to provide current and reliable information on population and health issues. Specifically, the 2022 TDHS-MIS collected information on marriage and sexual activity, fertility and fertility preferences, family planning, infant and child mortality, maternal health care, disability among the household population, child health, nutrition of children and women, malaria prevalence, knowledge, and communication, women’s empowerment, women’s experience of domestic violence, adult maternal mortality via sisterhood method, awareness and behaviour regarding HIV/AIDS and other sexually transmitted infections (STIs), female genital cutting, and early childhood development. Other information collected on health-related issues included smoking, blood pressure, anaemia, malaria, and iodine testing, height and weight, and micronutrients.<br><br>The information collected through the 2022 TDHS-MIS is intended to assist policymakers and programme managers in evaluating and designing programmes and strategies for improving the health of Tanzania’s population. The 2022 TDHS-MIS also provides indicators to monitor and evaluate international, regional, and national programmes, such as the Global Agenda 2030 on Sustainable Development Goals (2030 SDGs), Tanzania Development Vision 2025, the Third National Five-Year Development Plan (FYDP III 2021/22–2025/26), East Africa Community Vision 2050 (EAC 2050), and Africa Development Agenda 2063 (ADA 2063).', 'dataset_id': '0065150', 'project_id': '', 'files': '[{\"name\": \"Visit the Microdata Library to access data and documentation.\", \"description\": null, \"url\": null}]'}, {'name': 'Mozambique - Impact Evaluation of the Sustainable Land and Water Resource Management Project 2016-2019', 'description': 'The main objective of this activity is to shed light on the transformative potential of smallholder irrigation in Mozambique. Irrigation is critical in ensuring sustainable livelihoods for farmers in the face of increasing climate uncertainty. Irrigation access allows farmers to cultivate crops outside of the main rainy season, potentially doubling farm incomes by allowing for the cultivation of two crop cycles instead of one. However, it is grossly underutilized in Sub-Saharan Africa, particularly in Mozambique where only 8 percent of all farmers have access to irrigation. Despite the transformative potential of irrigation, there are gaps in our understanding of how-to best plan and manage irrigation infrastructure programs. First, because irrigation infrastructure is never placed at random, the true impact of these investments on farmers’ welfare is not well known. Second, irrigation equipment is often not well managed and degrades easily over time from lack of maintenance. This impact evaluation proposes a novel strategy for simultaneously measuring a rigorous estimate of the returns to irrigation investments, as well as providing insight on how to choose participants of an irrigation infrastructure program such that the impact and sustainability of the irrigation infrastructure is maximized.', 'dataset_id': '0065012', 'project_id': '', 'files': '[{\"name\": \"Visit the Microdata Library to access data and documentation.\", \"description\": null, \"url\": null}]'}]\n",
      "dict_keys(['name', 'description', 'dataset_id', 'project_id', 'files'])\n",
      "[<class 'str'>, <class 'str'>, <class 'str'>, <class 'str'>, <class 'str'>]\n",
      "[{\"name\": \"Visit the Microdata Library to access data and documentation.\", \"description\": null, \"url\": null}]\n"
     ]
    }
   ],
   "source": [
    "with open(\"data/wb_ag_datasets.csv\", \"r\") as f:\n",
    "    datasets = [r for r in csv.DictReader(f)]\n",
    "\n",
    "print(datasets[0:3])\n",
    "print(datasets[0].keys())\n",
    "print([type(v) for v in datasets[0].values()])\n",
    "print(datasets[0][\"files\"])\n",
    "\n",
    "datasets = [{ **d, \"id\": d[\"dataset_id\"], \"type\": \"dataset\", \"title\": d[\"name\"]} for d in datasets]\n",
    "\n",
    "data.extend(datasets)"
   ]
  },
  {
   "cell_type": "code",
   "execution_count": 14,
   "id": "fa97b922",
   "metadata": {
    "scrolled": true
   },
   "outputs": [
    {
     "name": "stdout",
     "output_type": "stream",
     "text": [
      "[{'id': 'P154784', 'use_case': 'Upscaling Climate-Smart Practices', 'project': 'Kenya Climate Smart Agriculture Project', 'description': \"The Kenya Climate Smart Agriculture Project (KCSAP) successfully implemented various methodologies for upscaling climate-smart agricultural practices, which led to remarkable outcomes in Kenyan agricultural sectors. One core methodology was mobilizing nearly 23,400 Common Interest Groups (CIGs) and Vulnerable and Marginalized Groups (VMGs), thereby impacting 370,000 farmers, 55 percent of whom were women. This effort surpassed initial targets by facilitating the adoption of climate-resilient practices among a significant number of farmers. Another notable strategy was the disbursement of 11,200 micro-projects versus an initial goal of 10,400, demonstrating efficient use of resources to catalyze agricultural transformation. Additionally, the project identified and trained 20,000 lead farmers, contributing significantly to community-level skill development and ensuring the sustainability of implemented practices. The program also fostered the operationalization of 2,642 Farmer Field Schools, which played a pivotal role in disseminating critical knowledge on Technology, Innovation, and Management Practices (TIMPs). The mobilization of 199 Farmer Producer Organizations (FPOs) and linking them with CIGs/VMGs underscored the projects' success in enhancing agricultural value chains. Furthermore, digital agriculture technologies were leveraged, benefiting over 200,039 farmers and affirming digital solutions' role in modernizing agriculture. This methodological approach illustrates innovative strategies in enhancing productivity and building climate resilience among smallholder farmers.\", 'organization': 'The National  Treasury', 'region': 'Eastern and Southern Africa', 'country': 'Republic of Kenya', 'document': \"{'Procurement Plan': 'http://documents.worldbank.org/curated/en/099112923004032288/pdf/P1547840c630f70e80a1110a78da17ec133.pdf', 'Auditing Document': 'http://documents.worldbank.org/curated/en/099020124083016280/pdf/P15478410e64b409e1a4701e7acce9a1b02.pdf', 'Project Paper': 'http://documents.worldbank.org/curated/en/099122123044032863/pdf/P1547841090d7e05a18a92186ab6d0b9d47.pdf'}\", 'topic': 'Other Agriculture, Fishing and Forestry', 'year': '2017', 'contact': '000515800$James Muli Musinga$jmusinga@worldbank.org'}, {'id': 'P154784', 'use_case': 'Strengthening Research & Seed Systems', 'project': 'Kenya Climate Smart Agriculture Project', 'description': \"This methodology focused on enhancing the agricultural landscape's vibrancy by strengthening climate-smart agricultural research and seed systems. A standout feature was the development and dissemination of 1594 Technologies Innovations and Management Practices (TIMPs) across 19 value chains. By training nearly 10,000 lead farmers on climate-smart TIMPs, the project ensured knowledge transfer and equipped farmers with the skills necessary to adopt new practices. The project's commitment to commercial seed production is evident in the activation of 235 Common Interest Groups (CIGs) across four value chains, which has significantly increased access to climate-resilient seeds. Furthermore, the collaboration with Kenya Agriculture Livestock Research Organization (KALRO) led to the production of 4822 MT of climate-smart early generation and certified seed, laying a strong foundation for sustainable agricultural practice among project beneficiaries. The awarding of 90 scholarships (54 MSc and 36 PhD) under this component not only contributed to capacity building but also fostered a research-based approach to addressing climate-smart agriculture challenges. By integrating research, training, and capacity building, this methodology exemplified a comprehensive approach to revamping agricultural systems in the face of climate change.\", 'organization': 'The National  Treasury', 'region': 'Eastern and Southern Africa', 'country': 'Republic of Kenya', 'document': \"{'Procurement Plan': 'http://documents.worldbank.org/curated/en/099112923004032288/pdf/P1547840c630f70e80a1110a78da17ec133.pdf', 'Auditing Document': 'http://documents.worldbank.org/curated/en/099020124083016280/pdf/P15478410e64b409e1a4701e7acce9a1b02.pdf', 'Project Paper': 'http://documents.worldbank.org/curated/en/099122123044032863/pdf/P1547841090d7e05a18a92186ab6d0b9d47.pdf'}\", 'topic': 'Other Agriculture, Fishing and Forestry', 'year': '2017', 'contact': '000515800$James Muli Musinga$jmusinga@worldbank.org'}, {'id': 'P154784', 'use_case': 'Enhancing Agro-weather & Advisory Services', 'project': 'Kenya Climate Smart Agriculture Project', 'description': \"In response to the challenges posed by climate change on agriculture, the Kenya Climate Smart Agriculture Project adeptly employed a methodology that significantly enhanced agro-weather, market, climate, and advisory services. Central to this approach was the installation of 154 Automatic Weather Stations (AWSs), including varied types such as Synoptic, Agro-meteorological, and Hydro-meteorological Stations. These AWSs provided critical data, enabling the formulation of informed agro-weather advisories for farmers. The project's integration with the Kenya Agricultural Market Information System (KAMIS) facilitated the provision of market information, making data accessible to farmers not only in Kenya but in 70 other countries globally. The establishment of a Big Data platform and a High Performing Computing System at KALRO transformed data processing capabilities, allowing for the generation of integrated advisories that reached a farmer database of 5 million individuals. Furthermore, support towards the expansion of crop insurance coverage for 39 counties, benefiting 1.2 million farmers, demonstrated a robust risk management strategy. This methodology illustrates a holistic approach to mitigating climate change impacts through technological integration and data-driven advisory services.\", 'organization': 'The National  Treasury', 'region': 'Eastern and Southern Africa', 'country': 'Republic of Kenya', 'document': \"{'Procurement Plan': 'http://documents.worldbank.org/curated/en/099112923004032288/pdf/P1547840c630f70e80a1110a78da17ec133.pdf', 'Auditing Document': 'http://documents.worldbank.org/curated/en/099020124083016280/pdf/P15478410e64b409e1a4701e7acce9a1b02.pdf', 'Project Paper': 'http://documents.worldbank.org/curated/en/099122123044032863/pdf/P1547841090d7e05a18a92186ab6d0b9d47.pdf'}\", 'topic': 'Other Agriculture, Fishing and Forestry', 'year': '2017', 'contact': '000515800$James Muli Musinga$jmusinga@worldbank.org'}]\n",
      "dict_keys(['id', 'use_case', 'project', 'description', 'organization', 'region', 'country', 'document', 'topic', 'year', 'contact'])\n",
      "[<class 'str'>, <class 'str'>, <class 'str'>, <class 'str'>, <class 'str'>, <class 'str'>, <class 'str'>, <class 'str'>, <class 'str'>, <class 'str'>, <class 'str'>]\n",
      "{'Procurement Plan': 'http://documents.worldbank.org/curated/en/099112923004032288/pdf/P1547840c630f70e80a1110a78da17ec133.pdf', 'Auditing Document': 'http://documents.worldbank.org/curated/en/099020124083016280/pdf/P15478410e64b409e1a4701e7acce9a1b02.pdf', 'Project Paper': 'http://documents.worldbank.org/curated/en/099122123044032863/pdf/P1547841090d7e05a18a92186ab6d0b9d47.pdf'}\n"
     ]
    }
   ],
   "source": [
    "with open(\"data/all_usecases.csv\", \"r\") as f:\n",
    "    usecases = [r for r in csv.DictReader(f)]\n",
    "\n",
    "print(usecases[0:3])\n",
    "print(usecases[0].keys())\n",
    "print([type(v) for v in usecases[0].values()])\n",
    "print(usecases[0][\"document\"])\n",
    "\n",
    "usecases = [{**u, \"title\":u[\"use_case\"], \"type\": \"usecase\"} for u in usecases]\n",
    "data.extend(usecases)   "
   ]
  },
  {
   "cell_type": "code",
   "execution_count": 15,
   "id": "09f5b6c9-65d9-41f5-b824-8ad9f804e982",
   "metadata": {},
   "outputs": [],
   "source": [
    "# Create mapping to store video titles (since several/many snippets may come from the same video)\n",
    "video_id_to_title = {}"
   ]
  },
  {
   "cell_type": "code",
   "execution_count": 17,
   "id": "81f46187",
   "metadata": {},
   "outputs": [
    {
     "name": "stdout",
     "output_type": "stream",
     "text": [
      "[{'excerpt link': 'https://www.youtube.com/watch?v=sHMD3wBlD7E&t=1s', 'transcript excerpt': \"agriculture webinar what's cooking series uh this has been a series which has been launched uh during the pandemic the the amount of knowledge and learning which is happening is exponential and we host in this series a number of uh practitioners thought leaders CEOs of uh technology data companies uh public sector decision makers and a number of people who are working on this field together and the idea is to have a free exchange of Innovations digital Solutions which are emerging at a very rapid rate across the world particularly in the area of Agriculture and rural development uh so we have a very interesting panel today and uh today's uh topic is also very important because\", 'video summary': \"A recording of a webinar from the World Bank's Data Driven Digital Agriculture YouTube channel detailing how KUZA leverages rural youth as change agents in agri-food sector transformation at scale.\"}, {'excerpt link': 'https://www.youtube.com/watch?v=sHMD3wBlD7E&t=48s', 'transcript excerpt': \"Agriculture and rural development uh so we have a very interesting panel today and uh today's uh topic is also very important because talks about agriculture resilience talk about the youth agripreneurs and uh also talk about how digital approaches can be replicated on a large scale basically and uh and and and what is the future way to go forward and uh we are very delighted to have this panel here today and I'll introduce the panel as they speak but to just give you a broad overview that uh we will have uh we will have a program which is around 90 minutes we try to close it in 90 minutes so that we use the time effectively and uh we will first have uh our our partner and collaborator\", 'video summary': \"A recording of a webinar from the World Bank's Data Driven Digital Agriculture YouTube channel detailing how KUZA leverages rural youth as change agents in agri-food sector transformation at scale.\"}, {'excerpt link': 'https://www.youtube.com/watch?v=sHMD3wBlD7E&t=99s', 'transcript excerpt': \"try to close it in 90 minutes so that we use the time effectively and uh we will first have uh our our partner and collaborator nadii albino who will really talk about how UNICEF and she leads a very interesting program uh in in UNICEF uh called generation unlimited and it is really about how we bring the young people into development and nadii will give her perspective plus unicef's perspective on how she's looking at she has lot of experience 20 years of experience in International Development has done number of programs with girls women Youth and children and so we are very delighted to have our UNICEF uh and nadii to be here to talk about what are doing and after that we have our the co star speaker today sham ban who also\", 'video summary': \"A recording of a webinar from the World Bank's Data Driven Digital Agriculture YouTube channel detailing how KUZA leverages rural youth as change agents in agri-food sector transformation at scale.\"}]\n",
      "dict_keys(['excerpt link', 'transcript excerpt', 'video summary'])\n",
      "[<class 'str'>, <class 'str'>, <class 'str'>]\n"
     ]
    },
    {
     "name": "stderr",
     "output_type": "stream",
     "text": [
      "100%|██████████| 10194/10194 [00:15<00:00, 656.52it/s]\n"
     ]
    }
   ],
   "source": [
    "with open(\"data/wb_youtube_videos.json\", \"r\") as f:\n",
    "    videos = json.load(f)\n",
    "\n",
    "print(videos[0:3])\n",
    "print(videos[0].keys())\n",
    "print([type(v) for v in videos[0].values()])\n",
    "\n",
    "videos = [{\n",
    "    \"video_id\": v[\"excerpt link\"].replace(\"https://www.youtube.com/watch?v=\", \"\").split(\"&\")[0],\n",
    "    \"timestamp\": v[\"excerpt link\"].replace(\"https://www.youtube.com/watch?v=\", \"\").split(\"&\")[1].replace(\"t=\", \"\")[:-1],\n",
    "    \"id\": v[\"excerpt link\"].replace(\"https://www.youtube.com/watch?v=\", \"\").replace(\"&t=\", \"_\")[:-1],\n",
    "    \"type\": \"video\",\n",
    "    **v} for v in videos]\n",
    "\n",
    "for v in tqdm(videos): \n",
    "    if not video_id_to_title.get(v[\"video_id\"]):     \n",
    "        r = requests.get(f\"https://www.googleapis.com/youtube/v3/videos?part=snippet&id={v['video_id']}&key={YOUTUBE_API_KEY}\")\n",
    "        if not r.json()[\"items\"]: \n",
    "            video_id_to_title[v[\"video_id\"]] = \"VIDEO NO LONGER AVAILABLE\"\n",
    "        else:\n",
    "            video_id_to_title[v[\"video_id\"]] = r.json()[\"items\"][0][\"snippet\"][\"title\"]\n",
    "    v[\"title\"] = video_id_to_title[v[\"video_id\"]]\n",
    "\n",
    "data.extend(videos)\n",
    " "
   ]
  },
  {
   "cell_type": "code",
   "execution_count": 9,
   "id": "d066f5ce-9fa3-48bb-8c28-b50de5e54baa",
   "metadata": {},
   "outputs": [
    {
     "name": "stderr",
     "output_type": "stream",
     "text": [
      "100%|██████████| 2348/2348 [01:06<00:00, 35.45it/s]\n"
     ]
    }
   ],
   "source": [
    "client = OpenAI(api_key=OPENAI_API_KEY)\n",
    "\n",
    "def get_text_to_embed(d: dict):\n",
    "    return \"\\n \".join([f\"{key}: {value}\" for key, value in d.items() if value is not None])\n",
    "\n",
    "def get_tokens(text: str):\n",
    "    text = text.replace(\"\\n\", \" \")\n",
    "    encoding = tiktoken.get_encoding(\"cl100k_base\")\n",
    "    return encoding.encode(text)\n",
    "\n",
    "\n",
    "def get_embedding(tokens: list):\n",
    "    \n",
    "    if len(tokens) > 8191:\n",
    "        print(\"WARNING: Token length execeeds 8191 tokens, truncating to 8191 tokens\")\n",
    "        tokens = tokens[:8191]\n",
    "\n",
    "    return (\n",
    "        client.embeddings.create(input=tokens, model=\"text-embedding-3-small\")\n",
    "        .data[0]\n",
    "        .embedding\n",
    "    )\n",
    "\n",
    "with concurrent.futures.ThreadPoolExecutor(max_workers=10) as executor:\n",
    "    embeddings = list(\n",
    "        tqdm(\n",
    "            executor.map(\n",
    "                lambda d: get_embedding(get_tokens(get_text_to_embed(d))), \n",
    "                data\n",
    "            ), \n",
    "            total=len(data) # sets total length of progressbar\n",
    "        )\n",
    "    ) "
   ]
  },
  {
   "cell_type": "code",
   "execution_count": 12,
   "id": "e22fad32-61c6-46c8-bc89-01929d901d4b",
   "metadata": {},
   "outputs": [],
   "source": [
    "data = [{**d, \"embedding\": embedding} for d, embedding in zip(data, embeddings)]"
   ]
  },
  {
   "cell_type": "code",
   "execution_count": 13,
   "id": "0a11572e",
   "metadata": {},
   "outputs": [],
   "source": [
    "# Standardize keys\n",
    "key_set = set()\n",
    "for d in data: \n",
    "    key_set.update(set(d.keys()))    \n",
    "data = [{**{k:None for k in key_set}, **d} for d in data]"
   ]
  },
  {
   "cell_type": "code",
   "execution_count": 14,
   "id": "66e5e1f3-1cb9-45a3-b8bc-137da303569d",
   "metadata": {},
   "outputs": [],
   "source": [
    "import json\n",
    "with open(\"records_v1.0.json\", \"w\") as f: \n",
    "    f.write(json.dumps(data))"
   ]
  }
 ],
 "metadata": {
  "kernelspec": {
   "display_name": "Python 3 (ipykernel)",
   "language": "python",
   "name": "python3"
  },
  "language_info": {
   "codemirror_mode": {
    "name": "ipython",
    "version": 3
   },
   "file_extension": ".py",
   "mimetype": "text/x-python",
   "name": "python",
   "nbconvert_exporter": "python",
   "pygments_lexer": "ipython3",
   "version": "3.11.7"
  }
 },
 "nbformat": 4,
 "nbformat_minor": 5
}
